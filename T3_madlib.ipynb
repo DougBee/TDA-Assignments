{
 "cells": [
  {
   "cell_type": "code",
   "execution_count": null,
   "metadata": {},
   "outputs": [],
   "source": [
    "def madlib():\n",
    "    date = input('enter a day of the week: ')\n",
    "    friendName = input('enter friend name: ')\n",
    "    town = input('enter a name of a town: ')\n",
    "    colour = input('enter a colour: ')\n",
    "    animal = input('enter a name of an animal: ')\n",
    "    print('On ' + date + ' my friend ' + friendName + ' and I went to the park in ' + town + '.When we arrived we saw a big ' + colour + ' ' + animal + ' flying by. It was not exactly what we were expecting to see.')\n",
    "\n",
    "madlib()"
   ]
  }
 ],
 "metadata": {
  "kernelspec": {
   "display_name": "base",
   "language": "python",
   "name": "python3"
  },
  "language_info": {
   "codemirror_mode": {
    "name": "ipython",
    "version": 3
   },
   "file_extension": ".py",
   "mimetype": "text/x-python",
   "name": "python",
   "nbconvert_exporter": "python",
   "pygments_lexer": "ipython3",
   "version": "3.11.5"
  }
 },
 "nbformat": 4,
 "nbformat_minor": 2
}
