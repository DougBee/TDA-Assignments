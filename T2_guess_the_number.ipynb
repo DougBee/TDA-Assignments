{
 "cells": [
  {
   "cell_type": "code",
   "execution_count": null,
   "metadata": {},
   "outputs": [],
   "source": [
    "import random\n",
    "\n",
    "hidden_number = random.randint(0, 100)\n",
    "\n",
    "while True:\n",
    "    user_guess = int(input('Guess a number?'))\n",
    "    if user_guess == hidden_number:\n",
    "        print(\"You guessed correctly!\")\n",
    "        break\n",
    "    elif user_guess < hidden_number:\n",
    "        print(\"You guessed too small!\")\n",
    "    else:\n",
    "        print(\"You guessed too large!\")\n",
    "    continue\n"
   ]
  }
 ],
 "metadata": {
  "kernelspec": {
   "display_name": "Python 3",
   "language": "python",
   "name": "python3"
  },
  "language_info": {
   "codemirror_mode": {
    "name": "ipython",
    "version": 3
   },
   "file_extension": ".py",
   "mimetype": "text/x-python",
   "name": "python",
   "nbconvert_exporter": "python",
   "pygments_lexer": "ipython3",
   "version": "3.11.5"
  }
 },
 "nbformat": 4,
 "nbformat_minor": 2
}
